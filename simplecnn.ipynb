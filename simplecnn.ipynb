{
  "nbformat": 4,
  "nbformat_minor": 0,
  "metadata": {
    "colab": {
      "name": "simplecnn.ipynb",
      "provenance": []
    },
    "kernelspec": {
      "name": "python3",
      "display_name": "Python 3"
    }
  },
  "cells": [
    {
      "cell_type": "code",
      "metadata": {
        "id": "fU9jTtnD2MKs",
        "colab_type": "code",
        "colab": {}
      },
      "source": [
        "from keras.datasets.cifar10 import load_data\n",
        "(x_train, y_train), (x_test, y_test) = load_data()"
      ],
      "execution_count": 0,
      "outputs": []
    },
    {
      "cell_type": "code",
      "metadata": {
        "id": "zF_BjDH32ojF",
        "colab_type": "code",
        "colab": {
          "base_uri": "https://localhost:8080/",
          "height": 52
        },
        "outputId": "060337ac-0201-4f95-8e7d-4dba1f8acce9"
      },
      "source": [
        "print(x_train.shape)\n",
        "print(x_test.shape)"
      ],
      "execution_count": 3,
      "outputs": [
        {
          "output_type": "stream",
          "text": [
            "(50000, 32, 32, 3)\n",
            "(10000, 32, 32, 3)\n"
          ],
          "name": "stdout"
        }
      ]
    },
    {
      "cell_type": "code",
      "metadata": {
        "id": "po-j-fpq30ab",
        "colab_type": "code",
        "colab": {}
      },
      "source": [
        "trans= [\"airplane\",\t\t\t\t\t\t\t\t\t\t\n",
        "        \"automobile\",\t\t\t\t\t\t\t\t\t\t\n",
        "        \"bird\",\t\t\t\t\t\t\t\t\t\t\n",
        "        \"cat\",\t\t\t\t\t\t\t\t\t\t\n",
        "        \"deer\",\t\t\t\t\t\t\t\t\t\t\n",
        "        \"dog\",\t\t\t\t\t\t\t\t\t\t\n",
        "        \"frog\",\t\t\t\t\t\t\t\t\t\t\n",
        "        \"horse\",\t\t\t\t\t\t\t\t\t\t\n",
        "        \"ship\",\t\t\t\t\t\t\t\t\t\t\n",
        "        \"truck\"]\t\t\t"
      ],
      "execution_count": 0,
      "outputs": []
    },
    {
      "cell_type": "code",
      "metadata": {
        "id": "dqI1cByh21Ac",
        "colab_type": "code",
        "colab": {
          "base_uri": "https://localhost:8080/",
          "height": 299
        },
        "outputId": "08e62fad-4471-4d09-f256-e0848ddca2de"
      },
      "source": [
        "import random\n",
        "import matplotlib.pyplot as plt\n",
        "%matplotlib inline\n",
        "c = random.randint(0, 49999)\n",
        "plt.title(\"This is \" + trans[y_train[c][0]])\n",
        "plt.imshow(x_train[c])"
      ],
      "execution_count": 14,
      "outputs": [
        {
          "output_type": "execute_result",
          "data": {
            "text/plain": [
              "<matplotlib.image.AxesImage at 0x7f5440461908>"
            ]
          },
          "metadata": {
            "tags": []
          },
          "execution_count": 14
        },
        {
          "output_type": "display_data",
          "data": {
            "image/png": "[encoded data removed]",
            "text/plain": [
              "<Figure size 432x288 with 1 Axes>"
            ]
          },
          "metadata": {
            "tags": []
          }
        }
      ]
    }
  ]
}