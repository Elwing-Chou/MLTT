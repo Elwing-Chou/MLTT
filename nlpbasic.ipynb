{
  "nbformat": 4,
  "nbformat_minor": 0,
  "metadata": {
    "colab": {
      "name": "nlpbasic.ipynb",
      "version": "0.3.2",
      "provenance": []
    },
    "kernelspec": {
      "name": "python3",
      "display_name": "Python 3"
    }
  },
  "cells": [
    {
      "cell_type": "code",
      "metadata": {
        "id": "efdRvZgYbHsM",
        "colab_type": "code",
        "colab": {
          "base_uri": "https://localhost:8080/",
          "height": 55
        },
        "outputId": "de1a4234-2d96-4e6a-f872-24f2b89c1e5f"
      },
      "source": [
        "!pip install jieba"
      ],
      "execution_count": 1,
      "outputs": [
        {
          "output_type": "stream",
          "text": [
            "Requirement already satisfied: jieba in /usr/local/lib/python3.6/dist-packages (0.39)\n"
          ],
          "name": "stdout"
        }
      ]
    },
    {
      "cell_type": "code",
      "metadata": {
        "id": "44MJfp17h6Vq",
        "colab_type": "code",
        "colab": {
          "base_uri": "https://localhost:8080/",
          "height": 35
        },
        "outputId": "33416c4f-20f5-46a6-8d6a-b2aae09ff687"
      },
      "source": [
        "from urllib.request import urlretrieve\n",
        "url = \"https://github.com/fxsjy/jieba/raw/master/extra_dict/dict.txt.big\"\n",
        "urlretrieve(url, \"dict.txt.big\")"
      ],
      "execution_count": 8,
      "outputs": [
        {
          "output_type": "execute_result",
          "data": {
            "text/plain": [
              "('dict.txt.big', <http.client.HTTPMessage at 0x7fe23b61fdd8>)"
            ]
          },
          "metadata": {
            "tags": []
          },
          "execution_count": 8
        }
      ]
    },
    {
      "cell_type": "code",
      "metadata": {
        "id": "bfdVKXV1dxVD",
        "colab_type": "code",
        "colab": {}
      },
      "source": [
        "s = \"\"\"台北市長柯文哲日前接受媒體聯訪，卻意外說出林志玲已懷孕的消息，引起軒然大波。不過林志玲早就提前在社群網站po照搞笑回應：「我很胖嗎？以後只能吃一碗了」，豈料卻釣出五月天的主唱阿信回應，網友還藉機虧阿信：「難怪你會單身」。\n",
        "\n",
        "林志玲日前已多次表態自己尚未懷孕，不過近日卻被媒體拍到小腹微隆起，又被揣測懷孕，她只好無奈地在社群網站貼出自己嘟嘴哀怨照，並寫著：「我很胖嗎？以後只能吃一碗了。」還附註哭臉圖。豈料，阿信卻在底下留言表示：「最多只能再半碗」，對此林志玲也回應：「我還有點餓」。\n",
        "\n",
        "網友看完阿信的回答，紛紛在底下留言：「你知道為什麼單身了吧？」、「你能吃兩碗」、「網隱少年」、「壞壞信」。\"\"\""
      ],
      "execution_count": 0,
      "outputs": []
    },
    {
      "cell_type": "code",
      "metadata": {
        "id": "eSpP8XJBgoiB",
        "colab_type": "code",
        "colab": {
          "base_uri": "https://localhost:8080/",
          "height": 125
        },
        "outputId": "f6a7ef1a-8b2d-4cb2-d3cd-2d9b42784364"
      },
      "source": [
        "from jieba import cut, set_dictionary, add_word\n",
        "set_dictionary(\"dict.txt.big\")\n",
        "add_word(\"柯文哲\")\n",
        "\" \".join(cut(s))"
      ],
      "execution_count": 10,
      "outputs": [
        {
          "output_type": "stream",
          "text": [
            "Building prefix dict from /content/dict.txt.big ...\n",
            "Loading model from cache /tmp/jieba.u501edca284da514cb68b53a20324f4e3.cache\n",
            "Loading model cost 1.501 seconds.\n",
            "Prefix dict has been built succesfully.\n"
          ],
          "name": "stderr"
        },
        {
          "output_type": "execute_result",
          "data": {
            "text/plain": [
              "'台北 市長 柯文哲 日前 接受 媒體 聯訪 ， 卻 意外 說出 林志玲 已 懷孕 的 消息 ， 引起 軒然大波 。 不過 林志玲 早就 提前 在 社群 網站 po 照 搞笑 回應 ： 「 我 很胖 嗎 ？ 以後 只能 吃 一碗 了 」 ， 豈料 卻 釣出 五月天 的 主唱 阿信 回應 ， 網友 還 藉機 虧阿信 ： 「 難怪 你 會 單身 」 。 \\n \\n 林志玲 日前 已 多次 表態 自己 尚未 懷孕 ， 不過 近日 卻 被 媒體 拍 到 小腹 微 隆起 ， 又 被 揣測 懷孕 ， 她 只好 無奈 地 在 社群 網站 貼 出 自己 嘟嘴 哀怨 照 ， 並寫 著 ： 「 我 很胖 嗎 ？ 以後 只能 吃 一碗 了 。 」 還 附註 哭臉 圖 。 豈料 ， 阿信 卻 在 底下 留言 表示 ： 「 最 多 只能 再 半碗 」 ， 對此 林志玲 也 回應 ： 「 我還 有點 餓 」 。 \\n \\n 網友 看 完阿信 的 回答 ， 紛紛 在 底下 留言 ： 「 你 知道 為 什麼 單身 了 吧 ？ 」 、 「 你 能 吃 兩碗 」 、 「 網隱 少年 」 、 「 壞壞 信 」 。'"
            ]
          },
          "metadata": {
            "tags": []
          },
          "execution_count": 10
        }
      ]
    },
    {
      "cell_type": "code",
      "metadata": {
        "id": "jtX9JVQAePxM",
        "colab_type": "code",
        "colab": {
          "base_uri": "https://localhost:8080/",
          "height": 369
        },
        "outputId": "4fc6b39f-d16a-4b29-9d48-54e527a8c1f1"
      },
      "source": [
        "from jieba.analyse import extract_tags\n",
        "extract_tags(s)"
      ],
      "execution_count": 11,
      "outputs": [
        {
          "output_type": "execute_result",
          "data": {
            "text/plain": [
              "['林志玲',\n",
              " '懷孕',\n",
              " '回應',\n",
              " '阿信',\n",
              " '媒體',\n",
              " '不過',\n",
              " '網站',\n",
              " '以後',\n",
              " '豈料',\n",
              " '網友',\n",
              " '單身',\n",
              " '很胖',\n",
              " '社群',\n",
              " '留言',\n",
              " '只能',\n",
              " '一碗',\n",
              " '底下',\n",
              " '日前',\n",
              " '市長',\n",
              " '柯文哲']"
            ]
          },
          "metadata": {
            "tags": []
          },
          "execution_count": 11
        }
      ]
    }
  ]
}